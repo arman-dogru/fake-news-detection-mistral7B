{
 "cells": [
  {
   "cell_type": "code",
   "execution_count": 49,
   "metadata": {},
   "outputs": [],
   "source": [
    "import pandas as pd"
   ]
  },
  {
   "cell_type": "markdown",
   "metadata": {},
   "source": [
    "## GOSSIP"
   ]
  },
  {
   "cell_type": "code",
   "execution_count": 50,
   "metadata": {},
   "outputs": [],
   "source": [
    "# Read the CSV file\n",
    "gossip_real = pd.read_csv('../datasets/Social Media/gossipcop/gossipcop_real.csv')\n",
    "gossip_fake = pd.read_csv('../datasets/Social Media/gossipcop/gossipcop_fake.csv')"
   ]
  },
  {
   "cell_type": "code",
   "execution_count": 51,
   "metadata": {},
   "outputs": [],
   "source": [
    "# Perform preprocessing steps here\n",
    "# drop id,news_url,tweet_ids\n",
    "gossip_real = gossip_real.drop(columns=['id', 'news_url', 'tweet_ids'])\n",
    "gossip_fake = gossip_fake.drop(columns=['id', 'news_url', 'tweet_ids'])"
   ]
  },
  {
   "cell_type": "code",
   "execution_count": 52,
   "metadata": {},
   "outputs": [],
   "source": [
    "#add label column with value 1\n",
    "gossip_real['label'] = 1\n",
    "gossip_fake['label'] = 0"
   ]
  },
  {
   "cell_type": "code",
   "execution_count": 53,
   "metadata": {},
   "outputs": [
    {
     "data": {
      "text/html": [
       "<div>\n",
       "<style scoped>\n",
       "    .dataframe tbody tr th:only-of-type {\n",
       "        vertical-align: middle;\n",
       "    }\n",
       "\n",
       "    .dataframe tbody tr th {\n",
       "        vertical-align: top;\n",
       "    }\n",
       "\n",
       "    .dataframe thead th {\n",
       "        text-align: right;\n",
       "    }\n",
       "</style>\n",
       "<table border=\"1\" class=\"dataframe\">\n",
       "  <thead>\n",
       "    <tr style=\"text-align: right;\">\n",
       "      <th></th>\n",
       "      <th>claim</th>\n",
       "      <th>label</th>\n",
       "    </tr>\n",
       "  </thead>\n",
       "  <tbody>\n",
       "    <tr>\n",
       "      <th>0</th>\n",
       "      <td>Teen Mom Star Jenelle Evans' Wedding Dress Is ...</td>\n",
       "      <td>1</td>\n",
       "    </tr>\n",
       "    <tr>\n",
       "      <th>1</th>\n",
       "      <td>Kylie Jenner refusing to discuss Tyga on Life ...</td>\n",
       "      <td>1</td>\n",
       "    </tr>\n",
       "    <tr>\n",
       "      <th>2</th>\n",
       "      <td>Quinn Perkins</td>\n",
       "      <td>1</td>\n",
       "    </tr>\n",
       "    <tr>\n",
       "      <th>3</th>\n",
       "      <td>I Tried Kim Kardashian's Butt Workout &amp; Am For...</td>\n",
       "      <td>1</td>\n",
       "    </tr>\n",
       "    <tr>\n",
       "      <th>4</th>\n",
       "      <td>Celine Dion donates concert proceeds to Vegas ...</td>\n",
       "      <td>1</td>\n",
       "    </tr>\n",
       "  </tbody>\n",
       "</table>\n",
       "</div>"
      ],
      "text/plain": [
       "                                               claim  label\n",
       "0  Teen Mom Star Jenelle Evans' Wedding Dress Is ...      1\n",
       "1  Kylie Jenner refusing to discuss Tyga on Life ...      1\n",
       "2                                      Quinn Perkins      1\n",
       "3  I Tried Kim Kardashian's Butt Workout & Am For...      1\n",
       "4  Celine Dion donates concert proceeds to Vegas ...      1"
      ]
     },
     "execution_count": 53,
     "metadata": {},
     "output_type": "execute_result"
    }
   ],
   "source": [
    "#merge the two dataframes\n",
    "gossip = pd.concat([gossip_real, gossip_fake])\n",
    "\n",
    "#rename the column title to claim\n",
    "gossip = gossip.rename(columns={'title': 'claim'})\n",
    "\n",
    "gossip.head()"
   ]
  },
  {
   "cell_type": "markdown",
   "metadata": {},
   "source": [
    "## POLITIFACT"
   ]
  },
  {
   "cell_type": "code",
   "execution_count": 54,
   "metadata": {},
   "outputs": [],
   "source": [
    "# Read the CSV file\n",
    "politifact_real = pd.read_csv('../datasets/Social Media/gossipcop/politifact_real.csv')\n",
    "politifact_fake = pd.read_csv('../datasets/Social Media/gossipcop/politifact_fake.csv')"
   ]
  },
  {
   "cell_type": "code",
   "execution_count": 55,
   "metadata": {},
   "outputs": [],
   "source": [
    "#add label column with value 1\n",
    "politifact_real['label'] = 1\n",
    "politifact_fake['label'] = 0"
   ]
  },
  {
   "cell_type": "code",
   "execution_count": 56,
   "metadata": {},
   "outputs": [
    {
     "data": {
      "text/html": [
       "<div>\n",
       "<style scoped>\n",
       "    .dataframe tbody tr th:only-of-type {\n",
       "        vertical-align: middle;\n",
       "    }\n",
       "\n",
       "    .dataframe tbody tr th {\n",
       "        vertical-align: top;\n",
       "    }\n",
       "\n",
       "    .dataframe thead th {\n",
       "        text-align: right;\n",
       "    }\n",
       "</style>\n",
       "<table border=\"1\" class=\"dataframe\">\n",
       "  <thead>\n",
       "    <tr style=\"text-align: right;\">\n",
       "      <th></th>\n",
       "      <th>claim</th>\n",
       "      <th>label</th>\n",
       "    </tr>\n",
       "  </thead>\n",
       "  <tbody>\n",
       "    <tr>\n",
       "      <th>0</th>\n",
       "      <td>National Federation of Independent Business</td>\n",
       "      <td>1</td>\n",
       "    </tr>\n",
       "    <tr>\n",
       "      <th>1</th>\n",
       "      <td>comments in Fayetteville NC</td>\n",
       "      <td>1</td>\n",
       "    </tr>\n",
       "    <tr>\n",
       "      <th>2</th>\n",
       "      <td>Romney makes pitch, hoping to close deal : Ele...</td>\n",
       "      <td>1</td>\n",
       "    </tr>\n",
       "    <tr>\n",
       "      <th>3</th>\n",
       "      <td>Democratic Leaders Say House Democrats Are Uni...</td>\n",
       "      <td>1</td>\n",
       "    </tr>\n",
       "    <tr>\n",
       "      <th>4</th>\n",
       "      <td>Budget of the United States Government, FY 2008</td>\n",
       "      <td>1</td>\n",
       "    </tr>\n",
       "  </tbody>\n",
       "</table>\n",
       "</div>"
      ],
      "text/plain": [
       "                                               claim  label\n",
       "0        National Federation of Independent Business      1\n",
       "1                        comments in Fayetteville NC      1\n",
       "2  Romney makes pitch, hoping to close deal : Ele...      1\n",
       "3  Democratic Leaders Say House Democrats Are Uni...      1\n",
       "4    Budget of the United States Government, FY 2008      1"
      ]
     },
     "execution_count": 56,
     "metadata": {},
     "output_type": "execute_result"
    }
   ],
   "source": [
    "#merge the two dataframes\n",
    "politifact = pd.concat([politifact_real, politifact_fake])\n",
    "\n",
    "#drop id,news_url,tweet_ids\n",
    "politifact = politifact.drop(columns=['id', 'news_url', 'tweet_ids'])\n",
    "\n",
    "politifact = politifact.rename(columns={'title': 'claim'})\n",
    "\n",
    "politifact.head()"
   ]
  },
  {
   "cell_type": "code",
   "execution_count": 57,
   "metadata": {},
   "outputs": [],
   "source": [
    "#merge the two dataframes\n",
    "socialmedia_dataset = pd.concat([gossip, politifact])"
   ]
  },
  {
   "cell_type": "code",
   "execution_count": 58,
   "metadata": {},
   "outputs": [],
   "source": [
    "#drop the rows with missing values\n",
    "socialmedia_dataset = socialmedia_dataset.dropna()\n",
    "\n",
    "#drop duplicates\n",
    "socialmedia_dataset = socialmedia_dataset.drop_duplicates()"
   ]
  },
  {
   "cell_type": "code",
   "execution_count": 59,
   "metadata": {},
   "outputs": [
    {
     "name": "stdout",
     "output_type": "stream",
     "text": [
      "(21847, 2)\n",
      "<class 'pandas.core.frame.DataFrame'>\n",
      "Index: 21847 entries, 0 to 430\n",
      "Data columns (total 2 columns):\n",
      " #   Column  Non-Null Count  Dtype \n",
      "---  ------  --------------  ----- \n",
      " 0   claim   21847 non-null  object\n",
      " 1   label   21847 non-null  int64 \n",
      "dtypes: int64(1), object(1)\n",
      "memory usage: 512.0+ KB\n",
      "None\n",
      "              label\n",
      "count  21847.000000\n",
      "mean       0.756351\n",
      "std        0.429293\n",
      "min        0.000000\n",
      "25%        1.000000\n",
      "50%        1.000000\n",
      "75%        1.000000\n",
      "max        1.000000\n",
      "                                               claim  label\n",
      "0  Teen Mom Star Jenelle Evans' Wedding Dress Is ...      1\n",
      "1  Kylie Jenner refusing to discuss Tyga on Life ...      1\n",
      "2                                      Quinn Perkins      1\n",
      "3  I Tried Kim Kardashian's Butt Workout & Am For...      1\n",
      "4  Celine Dion donates concert proceeds to Vegas ...      1\n",
      "[1 0]\n",
      "11.259989929967501\n"
     ]
    }
   ],
   "source": [
    "#display details of merged_df such as shape, info, describe, head unique values in label column\n",
    "print(socialmedia_dataset.shape)\n",
    "print(socialmedia_dataset.info())\n",
    "print(socialmedia_dataset.describe())\n",
    "print(socialmedia_dataset.head())\n",
    "print(socialmedia_dataset['label'].unique())\n",
    "\n",
    "#display average claim length\n",
    "socialmedia_dataset['claim_length'] = socialmedia_dataset['claim'].apply(lambda x: len(x.split()))\n",
    "print(socialmedia_dataset['claim_length'].mean())"
   ]
  },
  {
   "cell_type": "code",
   "execution_count": 60,
   "metadata": {},
   "outputs": [
    {
     "name": "stderr",
     "output_type": "stream",
     "text": [
      "[nltk_data] Downloading package stopwords to\n",
      "[nltk_data]     C:\\Users\\MONSTER\\AppData\\Roaming\\nltk_data...\n",
      "[nltk_data]   Package stopwords is already up-to-date!\n",
      "[nltk_data] Downloading package punkt to\n",
      "[nltk_data]     C:\\Users\\MONSTER\\AppData\\Roaming\\nltk_data...\n",
      "[nltk_data]   Package punkt is already up-to-date!\n",
      "[nltk_data] Downloading package wordnet to\n",
      "[nltk_data]     C:\\Users\\MONSTER\\AppData\\Roaming\\nltk_data...\n",
      "[nltk_data]   Package wordnet is already up-to-date!\n"
     ]
    },
    {
     "data": {
      "text/html": [
       "<div>\n",
       "<style scoped>\n",
       "    .dataframe tbody tr th:only-of-type {\n",
       "        vertical-align: middle;\n",
       "    }\n",
       "\n",
       "    .dataframe tbody tr th {\n",
       "        vertical-align: top;\n",
       "    }\n",
       "\n",
       "    .dataframe thead th {\n",
       "        text-align: right;\n",
       "    }\n",
       "</style>\n",
       "<table border=\"1\" class=\"dataframe\">\n",
       "  <thead>\n",
       "    <tr style=\"text-align: right;\">\n",
       "      <th></th>\n",
       "      <th>claim</th>\n",
       "      <th>label</th>\n",
       "      <th>claim_length</th>\n",
       "    </tr>\n",
       "  </thead>\n",
       "  <tbody>\n",
       "    <tr>\n",
       "      <th>0</th>\n",
       "      <td>teen star jenelle evans wedding dress availabl...</td>\n",
       "      <td>1</td>\n",
       "      <td>12</td>\n",
       "    </tr>\n",
       "    <tr>\n",
       "      <th>1</th>\n",
       "      <td>kylie jenner refusing discus tyga life kylie</td>\n",
       "      <td>1</td>\n",
       "      <td>10</td>\n",
       "    </tr>\n",
       "    <tr>\n",
       "      <th>2</th>\n",
       "      <td>quinn perkins</td>\n",
       "      <td>1</td>\n",
       "      <td>2</td>\n",
       "    </tr>\n",
       "    <tr>\n",
       "      <th>3</th>\n",
       "      <td>tried kardashians butt workout forever changed</td>\n",
       "      <td>1</td>\n",
       "      <td>10</td>\n",
       "    </tr>\n",
       "    <tr>\n",
       "      <th>4</th>\n",
       "      <td>celine dion donates concert proceeds vega shoo...</td>\n",
       "      <td>1</td>\n",
       "      <td>9</td>\n",
       "    </tr>\n",
       "  </tbody>\n",
       "</table>\n",
       "</div>"
      ],
      "text/plain": [
       "                                               claim  label  claim_length\n",
       "0  teen star jenelle evans wedding dress availabl...      1            12\n",
       "1       kylie jenner refusing discus tyga life kylie      1            10\n",
       "2                                      quinn perkins      1             2\n",
       "3     tried kardashians butt workout forever changed      1            10\n",
       "4  celine dion donates concert proceeds vega shoo...      1             9"
      ]
     },
     "execution_count": 60,
     "metadata": {},
     "output_type": "execute_result"
    }
   ],
   "source": [
    "#Remove punctuations\n",
    "#Convert text to tokens\n",
    "#Remove tokens of length less than or equal to 3\n",
    "#Remove stopwords using NLTK corpus stopwords list to match\n",
    "#Apply lemmatization\n",
    "\n",
    "import string\n",
    "import nltk\n",
    "from nltk.corpus import stopwords\n",
    "from nltk.tokenize import word_tokenize\n",
    "from nltk.stem import WordNetLemmatizer\n",
    "\n",
    "nltk.download('stopwords')\n",
    "nltk.download('punkt')\n",
    "nltk.download('wordnet')\n",
    "\n",
    "def clean_text(text):\n",
    "    text = text.lower()\n",
    "    text = text.translate(str.maketrans('', '', string.punctuation))\n",
    "    tokens = word_tokenize(text)\n",
    "    tokens = [word for word in tokens if len(word) > 3]\n",
    "    stop_words = set(stopwords.words('english'))\n",
    "    tokens = [word for word in tokens if word not in stop_words]\n",
    "    lemmatizer = WordNetLemmatizer()\n",
    "    tokens = [lemmatizer.lemmatize(word) for word in tokens]\n",
    "    return ' '.join(tokens)\n",
    "\n",
    "socialmedia_dataset['claim'] = socialmedia_dataset['claim'].apply(clean_text)\n",
    "socialmedia_dataset.head()"
   ]
  },
  {
   "cell_type": "code",
   "execution_count": 61,
   "metadata": {},
   "outputs": [
    {
     "name": "stdout",
     "output_type": "stream",
     "text": [
      "7.443768023069529\n"
     ]
    }
   ],
   "source": [
    "#display average claim length\n",
    "socialmedia_dataset['claim_length'] = socialmedia_dataset['claim'].apply(lambda x: len(x.split()))\n",
    "print(socialmedia_dataset['claim_length'].mean())\n",
    "socialmedia_dataset = socialmedia_dataset.drop(columns=['claim_length'])"
   ]
  },
  {
   "cell_type": "code",
   "execution_count": 62,
   "metadata": {},
   "outputs": [],
   "source": [
    "#save to preprocessed_datasets folder\n",
    "socialmedia_dataset.to_csv('../preprocessed_datasets/socialmedia_dataset.csv', index=False)"
   ]
  }
 ],
 "metadata": {
  "kernelspec": {
   "display_name": "Python 3",
   "language": "python",
   "name": "python3"
  },
  "language_info": {
   "codemirror_mode": {
    "name": "ipython",
    "version": 3
   },
   "file_extension": ".py",
   "mimetype": "text/x-python",
   "name": "python",
   "nbconvert_exporter": "python",
   "pygments_lexer": "ipython3",
   "version": "3.12.2"
  }
 },
 "nbformat": 4,
 "nbformat_minor": 2
}
