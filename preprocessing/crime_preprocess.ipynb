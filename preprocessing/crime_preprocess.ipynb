{
 "cells": [
  {
   "cell_type": "markdown",
   "metadata": {},
   "source": [
    "# CRIME PREPROCESS"
   ]
  },
  {
   "cell_type": "code",
   "execution_count": 72,
   "metadata": {},
   "outputs": [],
   "source": [
    "import pandas as pd"
   ]
  },
  {
   "cell_type": "code",
   "execution_count": 73,
   "metadata": {},
   "outputs": [],
   "source": [
    "# Load the datasets\n",
    "snopes_df = pd.read_csv('../datasets/Crime/snopesdata/snopes_phase1_raw_2018_7_3.csv', encoding='latin1')\n",
    "fakes_df = pd.read_csv('../datasets/Crime/fa-kes-data/FA-KES-Dataset.csv', encoding='latin1')"
   ]
  },
  {
   "cell_type": "markdown",
   "metadata": {},
   "source": [
    "## Snopes"
   ]
  },
  {
   "cell_type": "code",
   "execution_count": 74,
   "metadata": {},
   "outputs": [
    {
     "data": {
      "text/html": [
       "<div>\n",
       "<style scoped>\n",
       "    .dataframe tbody tr th:only-of-type {\n",
       "        vertical-align: middle;\n",
       "    }\n",
       "\n",
       "    .dataframe tbody tr th {\n",
       "        vertical-align: top;\n",
       "    }\n",
       "\n",
       "    .dataframe thead th {\n",
       "        text-align: right;\n",
       "    }\n",
       "</style>\n",
       "<table border=\"1\" class=\"dataframe\">\n",
       "  <thead>\n",
       "    <tr style=\"text-align: right;\">\n",
       "      <th></th>\n",
       "      <th>fact_rating_phase1</th>\n",
       "      <th>snopes_url_phase1</th>\n",
       "      <th>article_title_phase1</th>\n",
       "      <th>article_category_phase1</th>\n",
       "      <th>article_date_phase1</th>\n",
       "      <th>article_claim_phase1</th>\n",
       "      <th>article_origin_url_phase1</th>\n",
       "      <th>index_paragraph_phase1</th>\n",
       "      <th>page_is_first_citation_phase1</th>\n",
       "    </tr>\n",
       "  </thead>\n",
       "  <tbody>\n",
       "    <tr>\n",
       "      <th>0</th>\n",
       "      <td>true</td>\n",
       "      <td>https://www.snopes.com/fact-check/lori-mcallen...</td>\n",
       "      <td>Did an Oregon Department of Transportation Emp...</td>\n",
       "      <td>Viral Phenomena  Viral Phenomena</td>\n",
       "      <td>21 June 2018</td>\n",
       "      <td>In June 2018, Oregon DOT employee Lori McAllen...</td>\n",
       "      <td>https://www.oregon.gov/odot/Pages/index.aspx</td>\n",
       "      <td>1</td>\n",
       "      <td>True</td>\n",
       "    </tr>\n",
       "    <tr>\n",
       "      <th>1</th>\n",
       "      <td>true</td>\n",
       "      <td>https://www.snopes.com/fact-check/lori-mcallen...</td>\n",
       "      <td>Did an Oregon Department of Transportation Emp...</td>\n",
       "      <td>Viral Phenomena  Viral Phenomena</td>\n",
       "      <td>21 June 2018</td>\n",
       "      <td>In June 2018, Oregon DOT employee Lori McAllen...</td>\n",
       "      <td>http://archive.is/HpML7</td>\n",
       "      <td>2</td>\n",
       "      <td>False</td>\n",
       "    </tr>\n",
       "    <tr>\n",
       "      <th>2</th>\n",
       "      <td>true</td>\n",
       "      <td>https://www.snopes.com/fact-check/lori-mcallen...</td>\n",
       "      <td>Did an Oregon Department of Transportation Emp...</td>\n",
       "      <td>Viral Phenomena  Viral Phenomena</td>\n",
       "      <td>21 June 2018</td>\n",
       "      <td>In June 2018, Oregon DOT employee Lori McAllen...</td>\n",
       "      <td>https://us-east-1.tchyn.io/snopes-production/u...</td>\n",
       "      <td>4</td>\n",
       "      <td>False</td>\n",
       "    </tr>\n",
       "    <tr>\n",
       "      <th>3</th>\n",
       "      <td>true</td>\n",
       "      <td>https://www.snopes.com/fact-check/lori-mcallen...</td>\n",
       "      <td>Did an Oregon Department of Transportation Emp...</td>\n",
       "      <td>Viral Phenomena  Viral Phenomena</td>\n",
       "      <td>21 June 2018</td>\n",
       "      <td>In June 2018, Oregon DOT employee Lori McAllen...</td>\n",
       "      <td>https://us-east-1.tchyn.io/snopes-production/u...</td>\n",
       "      <td>10</td>\n",
       "      <td>False</td>\n",
       "    </tr>\n",
       "    <tr>\n",
       "      <th>4</th>\n",
       "      <td>true</td>\n",
       "      <td>https://www.snopes.com/fact-check/lori-mcallen...</td>\n",
       "      <td>Did an Oregon Department of Transportation Emp...</td>\n",
       "      <td>Viral Phenomena  Viral Phenomena</td>\n",
       "      <td>21 June 2018</td>\n",
       "      <td>In June 2018, Oregon DOT employee Lori McAllen...</td>\n",
       "      <td>https://us-east-1.tchyn.io/snopes-production/u...</td>\n",
       "      <td>12</td>\n",
       "      <td>False</td>\n",
       "    </tr>\n",
       "  </tbody>\n",
       "</table>\n",
       "</div>"
      ],
      "text/plain": [
       "  fact_rating_phase1                                  snopes_url_phase1  \\\n",
       "0               true  https://www.snopes.com/fact-check/lori-mcallen...   \n",
       "1               true  https://www.snopes.com/fact-check/lori-mcallen...   \n",
       "2               true  https://www.snopes.com/fact-check/lori-mcallen...   \n",
       "3               true  https://www.snopes.com/fact-check/lori-mcallen...   \n",
       "4               true  https://www.snopes.com/fact-check/lori-mcallen...   \n",
       "\n",
       "                                article_title_phase1  \\\n",
       "0  Did an Oregon Department of Transportation Emp...   \n",
       "1  Did an Oregon Department of Transportation Emp...   \n",
       "2  Did an Oregon Department of Transportation Emp...   \n",
       "3  Did an Oregon Department of Transportation Emp...   \n",
       "4  Did an Oregon Department of Transportation Emp...   \n",
       "\n",
       "            article_category_phase1 article_date_phase1  \\\n",
       "0  Viral Phenomena  Viral Phenomena        21 June 2018   \n",
       "1  Viral Phenomena  Viral Phenomena        21 June 2018   \n",
       "2  Viral Phenomena  Viral Phenomena        21 June 2018   \n",
       "3  Viral Phenomena  Viral Phenomena        21 June 2018   \n",
       "4  Viral Phenomena  Viral Phenomena        21 June 2018   \n",
       "\n",
       "                                article_claim_phase1  \\\n",
       "0  In June 2018, Oregon DOT employee Lori McAllen...   \n",
       "1  In June 2018, Oregon DOT employee Lori McAllen...   \n",
       "2  In June 2018, Oregon DOT employee Lori McAllen...   \n",
       "3  In June 2018, Oregon DOT employee Lori McAllen...   \n",
       "4  In June 2018, Oregon DOT employee Lori McAllen...   \n",
       "\n",
       "                           article_origin_url_phase1  index_paragraph_phase1  \\\n",
       "0       https://www.oregon.gov/odot/Pages/index.aspx                       1   \n",
       "1                            http://archive.is/HpML7                       2   \n",
       "2  https://us-east-1.tchyn.io/snopes-production/u...                       4   \n",
       "3  https://us-east-1.tchyn.io/snopes-production/u...                      10   \n",
       "4  https://us-east-1.tchyn.io/snopes-production/u...                      12   \n",
       "\n",
       "   page_is_first_citation_phase1  \n",
       "0                           True  \n",
       "1                          False  \n",
       "2                          False  \n",
       "3                          False  \n",
       "4                          False  "
      ]
     },
     "execution_count": 74,
     "metadata": {},
     "output_type": "execute_result"
    }
   ],
   "source": [
    "snopes_df.head()\n"
   ]
  },
  {
   "cell_type": "code",
   "execution_count": 75,
   "metadata": {},
   "outputs": [],
   "source": [
    "#drop snopes_url_phase1, article_title_phase1, article_category_phase1, article_date_phase1, article_origin_url_phase1, index_paragraph_phase1, page_is_first_citation_phase1\n",
    "snopes_df.drop(['snopes_url_phase1', 'article_title_phase1', 'article_category_phase1', 'article_date_phase1', 'article_origin_url_phase1', 'index_paragraph_phase1', 'page_is_first_citation_phase1'], axis=1, inplace=True)"
   ]
  },
  {
   "cell_type": "code",
   "execution_count": 76,
   "metadata": {},
   "outputs": [
    {
     "data": {
      "text/html": [
       "<div>\n",
       "<style scoped>\n",
       "    .dataframe tbody tr th:only-of-type {\n",
       "        vertical-align: middle;\n",
       "    }\n",
       "\n",
       "    .dataframe tbody tr th {\n",
       "        vertical-align: top;\n",
       "    }\n",
       "\n",
       "    .dataframe thead th {\n",
       "        text-align: right;\n",
       "    }\n",
       "</style>\n",
       "<table border=\"1\" class=\"dataframe\">\n",
       "  <thead>\n",
       "    <tr style=\"text-align: right;\">\n",
       "      <th></th>\n",
       "      <th>label</th>\n",
       "      <th>claim</th>\n",
       "    </tr>\n",
       "  </thead>\n",
       "  <tbody>\n",
       "    <tr>\n",
       "      <th>0</th>\n",
       "      <td>true</td>\n",
       "      <td>In June 2018, Oregon DOT employee Lori McAllen...</td>\n",
       "    </tr>\n",
       "    <tr>\n",
       "      <th>1</th>\n",
       "      <td>true</td>\n",
       "      <td>In June 2018, Oregon DOT employee Lori McAllen...</td>\n",
       "    </tr>\n",
       "    <tr>\n",
       "      <th>2</th>\n",
       "      <td>true</td>\n",
       "      <td>In June 2018, Oregon DOT employee Lori McAllen...</td>\n",
       "    </tr>\n",
       "    <tr>\n",
       "      <th>3</th>\n",
       "      <td>true</td>\n",
       "      <td>In June 2018, Oregon DOT employee Lori McAllen...</td>\n",
       "    </tr>\n",
       "    <tr>\n",
       "      <th>4</th>\n",
       "      <td>true</td>\n",
       "      <td>In June 2018, Oregon DOT employee Lori McAllen...</td>\n",
       "    </tr>\n",
       "  </tbody>\n",
       "</table>\n",
       "</div>"
      ],
      "text/plain": [
       "  label                                              claim\n",
       "0  true  In June 2018, Oregon DOT employee Lori McAllen...\n",
       "1  true  In June 2018, Oregon DOT employee Lori McAllen...\n",
       "2  true  In June 2018, Oregon DOT employee Lori McAllen...\n",
       "3  true  In June 2018, Oregon DOT employee Lori McAllen...\n",
       "4  true  In June 2018, Oregon DOT employee Lori McAllen..."
      ]
     },
     "execution_count": 76,
     "metadata": {},
     "output_type": "execute_result"
    }
   ],
   "source": [
    "#rename columns from article_claim_phase1 to claim, article_label_phase1 to label\n",
    "snopes_df.rename(columns={'article_claim_phase1':'claim', 'fact_rating_phase1':'label'}, inplace=True)\n",
    "snopes_df.head()"
   ]
  },
  {
   "cell_type": "code",
   "execution_count": 77,
   "metadata": {},
   "outputs": [
    {
     "name": "stdout",
     "output_type": "stream",
     "text": [
      "['true' 'mostly true' 'mixture' 'mostly false' 'false' 'unproven'\n",
      " 'outdated' 'miscaptioned' 'correct attribution' 'misattributed' 'scam'\n",
      " 'legend']\n"
     ]
    }
   ],
   "source": [
    "#print unique values in label column\n",
    "print(snopes_df['label'].unique())"
   ]
  },
  {
   "cell_type": "code",
   "execution_count": 78,
   "metadata": {},
   "outputs": [
    {
     "name": "stderr",
     "output_type": "stream",
     "text": [
      "C:\\Users\\MONSTER\\AppData\\Local\\Temp\\ipykernel_11596\\2913117659.py:3: FutureWarning: Downcasting behavior in `replace` is deprecated and will be removed in a future version. To retain the old behavior, explicitly call `result.infer_objects(copy=False)`. To opt-in to the future behavior, set `pd.set_option('future.no_silent_downcasting', True)`\n",
      "  snopes_df['label'] = snopes_df['label'].replace(['mixture', 'mostly false', 'false', 'unproven', 'outdated', 'miscaptioned', 'misattributed', 'scam', 'legend'], 0)\n"
     ]
    },
    {
     "data": {
      "text/html": [
       "<div>\n",
       "<style scoped>\n",
       "    .dataframe tbody tr th:only-of-type {\n",
       "        vertical-align: middle;\n",
       "    }\n",
       "\n",
       "    .dataframe tbody tr th {\n",
       "        vertical-align: top;\n",
       "    }\n",
       "\n",
       "    .dataframe thead th {\n",
       "        text-align: right;\n",
       "    }\n",
       "</style>\n",
       "<table border=\"1\" class=\"dataframe\">\n",
       "  <thead>\n",
       "    <tr style=\"text-align: right;\">\n",
       "      <th></th>\n",
       "      <th>label</th>\n",
       "      <th>claim</th>\n",
       "    </tr>\n",
       "  </thead>\n",
       "  <tbody>\n",
       "    <tr>\n",
       "      <th>0</th>\n",
       "      <td>1</td>\n",
       "      <td>In June 2018, Oregon DOT employee Lori McAllen...</td>\n",
       "    </tr>\n",
       "    <tr>\n",
       "      <th>1</th>\n",
       "      <td>1</td>\n",
       "      <td>In June 2018, Oregon DOT employee Lori McAllen...</td>\n",
       "    </tr>\n",
       "    <tr>\n",
       "      <th>2</th>\n",
       "      <td>1</td>\n",
       "      <td>In June 2018, Oregon DOT employee Lori McAllen...</td>\n",
       "    </tr>\n",
       "    <tr>\n",
       "      <th>3</th>\n",
       "      <td>1</td>\n",
       "      <td>In June 2018, Oregon DOT employee Lori McAllen...</td>\n",
       "    </tr>\n",
       "    <tr>\n",
       "      <th>4</th>\n",
       "      <td>1</td>\n",
       "      <td>In June 2018, Oregon DOT employee Lori McAllen...</td>\n",
       "    </tr>\n",
       "  </tbody>\n",
       "</table>\n",
       "</div>"
      ],
      "text/plain": [
       "   label                                              claim\n",
       "0      1  In June 2018, Oregon DOT employee Lori McAllen...\n",
       "1      1  In June 2018, Oregon DOT employee Lori McAllen...\n",
       "2      1  In June 2018, Oregon DOT employee Lori McAllen...\n",
       "3      1  In June 2018, Oregon DOT employee Lori McAllen...\n",
       "4      1  In June 2018, Oregon DOT employee Lori McAllen..."
      ]
     },
     "execution_count": 78,
     "metadata": {},
     "output_type": "execute_result"
    }
   ],
   "source": [
    "#rename values in label column from ['true' 'mostly true' 'mixture' 'mostly false' 'false' 'unproven' 'outdated' 'miscaptioned' 'correct attribution' 'misattributed' 'scam' 'legend' to 1 and 0 s\n",
    "snopes_df['label'] = snopes_df['label'].replace(['true', 'mostly true', 'correct attribution'], 1)\n",
    "snopes_df['label'] = snopes_df['label'].replace(['mixture', 'mostly false', 'false', 'unproven', 'outdated', 'miscaptioned', 'misattributed', 'scam', 'legend'], 0)\n",
    "snopes_df.head()"
   ]
  },
  {
   "cell_type": "code",
   "execution_count": 79,
   "metadata": {},
   "outputs": [
    {
     "name": "stdout",
     "output_type": "stream",
     "text": [
      "[1 0]\n"
     ]
    }
   ],
   "source": [
    "#print unique values in label column\n",
    "print(snopes_df['label'].unique())"
   ]
  },
  {
   "cell_type": "markdown",
   "metadata": {},
   "source": [
    "## FA-KES"
   ]
  },
  {
   "cell_type": "code",
   "execution_count": 80,
   "metadata": {},
   "outputs": [
    {
     "data": {
      "text/html": [
       "<div>\n",
       "<style scoped>\n",
       "    .dataframe tbody tr th:only-of-type {\n",
       "        vertical-align: middle;\n",
       "    }\n",
       "\n",
       "    .dataframe tbody tr th {\n",
       "        vertical-align: top;\n",
       "    }\n",
       "\n",
       "    .dataframe thead th {\n",
       "        text-align: right;\n",
       "    }\n",
       "</style>\n",
       "<table border=\"1\" class=\"dataframe\">\n",
       "  <thead>\n",
       "    <tr style=\"text-align: right;\">\n",
       "      <th></th>\n",
       "      <th>unit_id</th>\n",
       "      <th>article_title</th>\n",
       "      <th>article_content</th>\n",
       "      <th>source</th>\n",
       "      <th>date</th>\n",
       "      <th>location</th>\n",
       "      <th>labels</th>\n",
       "      <th>Unnamed: 7</th>\n",
       "      <th>Unnamed: 8</th>\n",
       "      <th>Unnamed: 9</th>\n",
       "      <th>Unnamed: 10</th>\n",
       "    </tr>\n",
       "  </thead>\n",
       "  <tbody>\n",
       "    <tr>\n",
       "      <th>0</th>\n",
       "      <td>1914947530</td>\n",
       "      <td>Syria attack symptoms consistent with nerve ag...</td>\n",
       "      <td>Wed 05 Apr 2017 Syria attack symptoms consiste...</td>\n",
       "      <td>nna</td>\n",
       "      <td>4/5/2017</td>\n",
       "      <td>idlib</td>\n",
       "      <td>0</td>\n",
       "      <td>NaN</td>\n",
       "      <td>NaN</td>\n",
       "      <td>NaN</td>\n",
       "      <td>NaN</td>\n",
       "    </tr>\n",
       "    <tr>\n",
       "      <th>1</th>\n",
       "      <td>1914947532</td>\n",
       "      <td>Homs governor says U.S. attack caused deaths b...</td>\n",
       "      <td>Fri 07 Apr 2017 at 0914 Homs governor says U.S...</td>\n",
       "      <td>nna</td>\n",
       "      <td>4/7/2017</td>\n",
       "      <td>homs</td>\n",
       "      <td>0</td>\n",
       "      <td>NaN</td>\n",
       "      <td>NaN</td>\n",
       "      <td>NaN</td>\n",
       "      <td>NaN</td>\n",
       "    </tr>\n",
       "    <tr>\n",
       "      <th>2</th>\n",
       "      <td>1914947533</td>\n",
       "      <td>Death toll from Aleppo bomb attack at least 112</td>\n",
       "      <td>Sun 16 Apr 2017 Death toll from Aleppo bomb at...</td>\n",
       "      <td>nna</td>\n",
       "      <td>4/16/2017</td>\n",
       "      <td>aleppo</td>\n",
       "      <td>0</td>\n",
       "      <td>NaN</td>\n",
       "      <td>NaN</td>\n",
       "      <td>NaN</td>\n",
       "      <td>NaN</td>\n",
       "    </tr>\n",
       "    <tr>\n",
       "      <th>3</th>\n",
       "      <td>1914947534</td>\n",
       "      <td>Aleppo bomb blast kills six Syrian state TV</td>\n",
       "      <td>Wed 19 Apr 2017 Aleppo bomb blast kills six Sy...</td>\n",
       "      <td>nna</td>\n",
       "      <td>4/19/2017</td>\n",
       "      <td>aleppo</td>\n",
       "      <td>0</td>\n",
       "      <td>NaN</td>\n",
       "      <td>NaN</td>\n",
       "      <td>NaN</td>\n",
       "      <td>NaN</td>\n",
       "    </tr>\n",
       "    <tr>\n",
       "      <th>4</th>\n",
       "      <td>1914947535</td>\n",
       "      <td>29 Syria Rebels Dead in Fighting for Key Alepp...</td>\n",
       "      <td>Sun 10 Jul 2016 29 Syria Rebels Dead in Fighti...</td>\n",
       "      <td>nna</td>\n",
       "      <td>7/10/2016</td>\n",
       "      <td>aleppo</td>\n",
       "      <td>0</td>\n",
       "      <td>NaN</td>\n",
       "      <td>NaN</td>\n",
       "      <td>NaN</td>\n",
       "      <td>NaN</td>\n",
       "    </tr>\n",
       "  </tbody>\n",
       "</table>\n",
       "</div>"
      ],
      "text/plain": [
       "      unit_id                                      article_title  \\\n",
       "0  1914947530  Syria attack symptoms consistent with nerve ag...   \n",
       "1  1914947532  Homs governor says U.S. attack caused deaths b...   \n",
       "2  1914947533    Death toll from Aleppo bomb attack at least 112   \n",
       "3  1914947534        Aleppo bomb blast kills six Syrian state TV   \n",
       "4  1914947535  29 Syria Rebels Dead in Fighting for Key Alepp...   \n",
       "\n",
       "                                     article_content source       date  \\\n",
       "0  Wed 05 Apr 2017 Syria attack symptoms consiste...    nna   4/5/2017   \n",
       "1  Fri 07 Apr 2017 at 0914 Homs governor says U.S...    nna   4/7/2017   \n",
       "2  Sun 16 Apr 2017 Death toll from Aleppo bomb at...    nna  4/16/2017   \n",
       "3  Wed 19 Apr 2017 Aleppo bomb blast kills six Sy...    nna  4/19/2017   \n",
       "4  Sun 10 Jul 2016 29 Syria Rebels Dead in Fighti...    nna  7/10/2016   \n",
       "\n",
       "  location  labels  Unnamed: 7  Unnamed: 8  Unnamed: 9 Unnamed: 10  \n",
       "0    idlib       0         NaN         NaN         NaN         NaN  \n",
       "1     homs       0         NaN         NaN         NaN         NaN  \n",
       "2   aleppo       0         NaN         NaN         NaN         NaN  \n",
       "3   aleppo       0         NaN         NaN         NaN         NaN  \n",
       "4   aleppo       0         NaN         NaN         NaN         NaN  "
      ]
     },
     "execution_count": 80,
     "metadata": {},
     "output_type": "execute_result"
    }
   ],
   "source": [
    "fakes_df.head()"
   ]
  },
  {
   "cell_type": "code",
   "execution_count": 81,
   "metadata": {},
   "outputs": [
    {
     "data": {
      "text/html": [
       "<div>\n",
       "<style scoped>\n",
       "    .dataframe tbody tr th:only-of-type {\n",
       "        vertical-align: middle;\n",
       "    }\n",
       "\n",
       "    .dataframe tbody tr th {\n",
       "        vertical-align: top;\n",
       "    }\n",
       "\n",
       "    .dataframe thead th {\n",
       "        text-align: right;\n",
       "    }\n",
       "</style>\n",
       "<table border=\"1\" class=\"dataframe\">\n",
       "  <thead>\n",
       "    <tr style=\"text-align: right;\">\n",
       "      <th></th>\n",
       "      <th>article_content</th>\n",
       "      <th>labels</th>\n",
       "    </tr>\n",
       "  </thead>\n",
       "  <tbody>\n",
       "    <tr>\n",
       "      <th>0</th>\n",
       "      <td>Wed 05 Apr 2017 Syria attack symptoms consiste...</td>\n",
       "      <td>0</td>\n",
       "    </tr>\n",
       "    <tr>\n",
       "      <th>1</th>\n",
       "      <td>Fri 07 Apr 2017 at 0914 Homs governor says U.S...</td>\n",
       "      <td>0</td>\n",
       "    </tr>\n",
       "    <tr>\n",
       "      <th>2</th>\n",
       "      <td>Sun 16 Apr 2017 Death toll from Aleppo bomb at...</td>\n",
       "      <td>0</td>\n",
       "    </tr>\n",
       "    <tr>\n",
       "      <th>3</th>\n",
       "      <td>Wed 19 Apr 2017 Aleppo bomb blast kills six Sy...</td>\n",
       "      <td>0</td>\n",
       "    </tr>\n",
       "    <tr>\n",
       "      <th>4</th>\n",
       "      <td>Sun 10 Jul 2016 29 Syria Rebels Dead in Fighti...</td>\n",
       "      <td>0</td>\n",
       "    </tr>\n",
       "  </tbody>\n",
       "</table>\n",
       "</div>"
      ],
      "text/plain": [
       "                                     article_content  labels\n",
       "0  Wed 05 Apr 2017 Syria attack symptoms consiste...       0\n",
       "1  Fri 07 Apr 2017 at 0914 Homs governor says U.S...       0\n",
       "2  Sun 16 Apr 2017 Death toll from Aleppo bomb at...       0\n",
       "3  Wed 19 Apr 2017 Aleppo bomb blast kills six Sy...       0\n",
       "4  Sun 10 Jul 2016 29 Syria Rebels Dead in Fighti...       0"
      ]
     },
     "execution_count": 81,
     "metadata": {},
     "output_type": "execute_result"
    }
   ],
   "source": [
    "#drop unit_id,article_title,source,date,location,\"Unnamed: 7\",\"Unnamed: 8\",\"Unnamed: 9\",\"Unnamed: 10\" from fakes_df\n",
    "fakes_df.drop(['unit_id','article_title','source','date','location',\"Unnamed: 7\",\"Unnamed: 8\",\"Unnamed: 9\",\"Unnamed: 10\"], axis=1, inplace=True)\n",
    "fakes_df.head()"
   ]
  },
  {
   "cell_type": "code",
   "execution_count": 82,
   "metadata": {},
   "outputs": [
    {
     "data": {
      "text/html": [
       "<div>\n",
       "<style scoped>\n",
       "    .dataframe tbody tr th:only-of-type {\n",
       "        vertical-align: middle;\n",
       "    }\n",
       "\n",
       "    .dataframe tbody tr th {\n",
       "        vertical-align: top;\n",
       "    }\n",
       "\n",
       "    .dataframe thead th {\n",
       "        text-align: right;\n",
       "    }\n",
       "</style>\n",
       "<table border=\"1\" class=\"dataframe\">\n",
       "  <thead>\n",
       "    <tr style=\"text-align: right;\">\n",
       "      <th></th>\n",
       "      <th>claim</th>\n",
       "      <th>label</th>\n",
       "    </tr>\n",
       "  </thead>\n",
       "  <tbody>\n",
       "    <tr>\n",
       "      <th>0</th>\n",
       "      <td>Wed 05 Apr 2017 Syria attack symptoms consiste...</td>\n",
       "      <td>0</td>\n",
       "    </tr>\n",
       "    <tr>\n",
       "      <th>1</th>\n",
       "      <td>Fri 07 Apr 2017 at 0914 Homs governor says U.S...</td>\n",
       "      <td>0</td>\n",
       "    </tr>\n",
       "    <tr>\n",
       "      <th>2</th>\n",
       "      <td>Sun 16 Apr 2017 Death toll from Aleppo bomb at...</td>\n",
       "      <td>0</td>\n",
       "    </tr>\n",
       "    <tr>\n",
       "      <th>3</th>\n",
       "      <td>Wed 19 Apr 2017 Aleppo bomb blast kills six Sy...</td>\n",
       "      <td>0</td>\n",
       "    </tr>\n",
       "    <tr>\n",
       "      <th>4</th>\n",
       "      <td>Sun 10 Jul 2016 29 Syria Rebels Dead in Fighti...</td>\n",
       "      <td>0</td>\n",
       "    </tr>\n",
       "  </tbody>\n",
       "</table>\n",
       "</div>"
      ],
      "text/plain": [
       "                                               claim  label\n",
       "0  Wed 05 Apr 2017 Syria attack symptoms consiste...      0\n",
       "1  Fri 07 Apr 2017 at 0914 Homs governor says U.S...      0\n",
       "2  Sun 16 Apr 2017 Death toll from Aleppo bomb at...      0\n",
       "3  Wed 19 Apr 2017 Aleppo bomb blast kills six Sy...      0\n",
       "4  Sun 10 Jul 2016 29 Syria Rebels Dead in Fighti...      0"
      ]
     },
     "execution_count": 82,
     "metadata": {},
     "output_type": "execute_result"
    }
   ],
   "source": [
    "#rename article_content\tlabels to claim, label\n",
    "fakes_df.rename(columns={'article_content':'claim', 'labels':'label'}, inplace=True)\n",
    "fakes_df.head()"
   ]
  },
  {
   "cell_type": "markdown",
   "metadata": {},
   "source": [
    "## MERGE"
   ]
  },
  {
   "cell_type": "code",
   "execution_count": 83,
   "metadata": {},
   "outputs": [],
   "source": [
    "#replace label values in snopes_df to match fakes_df\n",
    "snopes_df['label'] = snopes_df['label'].replace(['false', 'mixture', 'true'], ['Fake', 'Mixture', 'Real'])"
   ]
  },
  {
   "cell_type": "code",
   "execution_count": 84,
   "metadata": {},
   "outputs": [
    {
     "data": {
      "text/html": [
       "<div>\n",
       "<style scoped>\n",
       "    .dataframe tbody tr th:only-of-type {\n",
       "        vertical-align: middle;\n",
       "    }\n",
       "\n",
       "    .dataframe tbody tr th {\n",
       "        vertical-align: top;\n",
       "    }\n",
       "\n",
       "    .dataframe thead th {\n",
       "        text-align: right;\n",
       "    }\n",
       "</style>\n",
       "<table border=\"1\" class=\"dataframe\">\n",
       "  <thead>\n",
       "    <tr style=\"text-align: right;\">\n",
       "      <th></th>\n",
       "      <th>label</th>\n",
       "      <th>claim</th>\n",
       "    </tr>\n",
       "  </thead>\n",
       "  <tbody>\n",
       "    <tr>\n",
       "      <th>0</th>\n",
       "      <td>1</td>\n",
       "      <td>In June 2018, Oregon DOT employee Lori McAllen...</td>\n",
       "    </tr>\n",
       "    <tr>\n",
       "      <th>1</th>\n",
       "      <td>1</td>\n",
       "      <td>In June 2018, Oregon DOT employee Lori McAllen...</td>\n",
       "    </tr>\n",
       "    <tr>\n",
       "      <th>2</th>\n",
       "      <td>1</td>\n",
       "      <td>In June 2018, Oregon DOT employee Lori McAllen...</td>\n",
       "    </tr>\n",
       "    <tr>\n",
       "      <th>3</th>\n",
       "      <td>1</td>\n",
       "      <td>In June 2018, Oregon DOT employee Lori McAllen...</td>\n",
       "    </tr>\n",
       "    <tr>\n",
       "      <th>4</th>\n",
       "      <td>1</td>\n",
       "      <td>In June 2018, Oregon DOT employee Lori McAllen...</td>\n",
       "    </tr>\n",
       "  </tbody>\n",
       "</table>\n",
       "</div>"
      ],
      "text/plain": [
       "   label                                              claim\n",
       "0      1  In June 2018, Oregon DOT employee Lori McAllen...\n",
       "1      1  In June 2018, Oregon DOT employee Lori McAllen...\n",
       "2      1  In June 2018, Oregon DOT employee Lori McAllen...\n",
       "3      1  In June 2018, Oregon DOT employee Lori McAllen...\n",
       "4      1  In June 2018, Oregon DOT employee Lori McAllen..."
      ]
     },
     "execution_count": 84,
     "metadata": {},
     "output_type": "execute_result"
    }
   ],
   "source": [
    "#merge snopes_df and fakes_df\n",
    "crime_dataset = pd.concat([snopes_df, fakes_df])\n",
    "crime_dataset.head()"
   ]
  },
  {
   "cell_type": "code",
   "execution_count": 85,
   "metadata": {},
   "outputs": [],
   "source": [
    "#remove duplicates\n",
    "crime_dataset.drop_duplicates(subset='claim', keep='first', inplace=True)\n",
    "\n",
    "#remove rows with missing values\n",
    "crime_dataset = crime_dataset.dropna()"
   ]
  },
  {
   "cell_type": "code",
   "execution_count": 86,
   "metadata": {},
   "outputs": [
    {
     "name": "stdout",
     "output_type": "stream",
     "text": [
      "(6427, 2)\n",
      "<class 'pandas.core.frame.DataFrame'>\n",
      "Index: 6427 entries, 0 to 803\n",
      "Data columns (total 2 columns):\n",
      " #   Column  Non-Null Count  Dtype \n",
      "---  ------  --------------  ----- \n",
      " 0   label   6427 non-null   int64 \n",
      " 1   claim   6427 non-null   object\n",
      "dtypes: int64(1), object(1)\n",
      "memory usage: 150.6+ KB\n",
      "None\n",
      "             label\n",
      "count  6427.000000\n",
      "mean      0.179555\n",
      "std       0.383846\n",
      "min       0.000000\n",
      "25%       0.000000\n",
      "50%       0.000000\n",
      "75%       0.000000\n",
      "max       1.000000\n",
      "    label                                              claim\n",
      "0       1  In June 2018, Oregon DOT employee Lori McAllen...\n",
      "6       1  The Trump administration is paying Southwest K...\n",
      "20      1  First Lady Melania Trump wore a jacket with \"I...\n",
      "37      1  Facebook posts by commercial flight attendants...\n",
      "46      1  Stephen Miller â a principal architect of th...\n",
      "[1 0]\n",
      "53.409989108448734\n"
     ]
    }
   ],
   "source": [
    "#display details of merged_df such as shape, info, describe, head unique values in label column\n",
    "print(crime_dataset.shape)\n",
    "print(crime_dataset.info())\n",
    "print(crime_dataset.describe())\n",
    "print(crime_dataset.head())\n",
    "print(crime_dataset['label'].unique())\n",
    "\n",
    "#display average claim length\n",
    "crime_dataset['claim_length'] = crime_dataset['claim'].apply(lambda x: len(x.split()))\n",
    "print(crime_dataset['claim_length'].mean())"
   ]
  },
  {
   "cell_type": "code",
   "execution_count": 87,
   "metadata": {},
   "outputs": [
    {
     "name": "stderr",
     "output_type": "stream",
     "text": [
      "[nltk_data] Downloading package stopwords to\n",
      "[nltk_data]     C:\\Users\\MONSTER\\AppData\\Roaming\\nltk_data...\n",
      "[nltk_data]   Package stopwords is already up-to-date!\n",
      "[nltk_data] Downloading package punkt to\n",
      "[nltk_data]     C:\\Users\\MONSTER\\AppData\\Roaming\\nltk_data...\n",
      "[nltk_data]   Package punkt is already up-to-date!\n",
      "[nltk_data] Downloading package wordnet to\n",
      "[nltk_data]     C:\\Users\\MONSTER\\AppData\\Roaming\\nltk_data...\n",
      "[nltk_data]   Package wordnet is already up-to-date!\n"
     ]
    },
    {
     "data": {
      "text/html": [
       "<div>\n",
       "<style scoped>\n",
       "    .dataframe tbody tr th:only-of-type {\n",
       "        vertical-align: middle;\n",
       "    }\n",
       "\n",
       "    .dataframe tbody tr th {\n",
       "        vertical-align: top;\n",
       "    }\n",
       "\n",
       "    .dataframe thead th {\n",
       "        text-align: right;\n",
       "    }\n",
       "</style>\n",
       "<table border=\"1\" class=\"dataframe\">\n",
       "  <thead>\n",
       "    <tr style=\"text-align: right;\">\n",
       "      <th></th>\n",
       "      <th>label</th>\n",
       "      <th>claim</th>\n",
       "      <th>claim_length</th>\n",
       "    </tr>\n",
       "  </thead>\n",
       "  <tbody>\n",
       "    <tr>\n",
       "      <th>0</th>\n",
       "      <td>1</td>\n",
       "      <td>june 2018 oregon employee lori mcallen said im...</td>\n",
       "      <td>22</td>\n",
       "    </tr>\n",
       "    <tr>\n",
       "      <th>6</th>\n",
       "      <td>1</td>\n",
       "      <td>trump administration paying southwest million ...</td>\n",
       "      <td>23</td>\n",
       "    </tr>\n",
       "    <tr>\n",
       "      <th>20</th>\n",
       "      <td>1</td>\n",
       "      <td>first lady melania trump wore jacket dont real...</td>\n",
       "      <td>25</td>\n",
       "    </tr>\n",
       "    <tr>\n",
       "      <th>37</th>\n",
       "      <td>1</td>\n",
       "      <td>facebook post commercial flight attendant desc...</td>\n",
       "      <td>19</td>\n",
       "    </tr>\n",
       "    <tr>\n",
       "      <th>46</th>\n",
       "      <td>1</td>\n",
       "      <td>stephen miller principal architect trump admin...</td>\n",
       "      <td>26</td>\n",
       "    </tr>\n",
       "  </tbody>\n",
       "</table>\n",
       "</div>"
      ],
      "text/plain": [
       "    label                                              claim  claim_length\n",
       "0       1  june 2018 oregon employee lori mcallen said im...            22\n",
       "6       1  trump administration paying southwest million ...            23\n",
       "20      1  first lady melania trump wore jacket dont real...            25\n",
       "37      1  facebook post commercial flight attendant desc...            19\n",
       "46      1  stephen miller principal architect trump admin...            26"
      ]
     },
     "execution_count": 87,
     "metadata": {},
     "output_type": "execute_result"
    }
   ],
   "source": [
    "#Remove punctuations\n",
    "#Convert text to tokens\n",
    "#Remove tokens of length less than or equal to 3\n",
    "#Remove stopwords using NLTK corpus stopwords list to match\n",
    "#Apply lemmatization\n",
    "\n",
    "import string\n",
    "import nltk\n",
    "from nltk.corpus import stopwords\n",
    "from nltk.tokenize import word_tokenize\n",
    "from nltk.stem import WordNetLemmatizer\n",
    "\n",
    "nltk.download('stopwords')\n",
    "nltk.download('punkt')\n",
    "nltk.download('wordnet')\n",
    "\n",
    "def clean_text(text):\n",
    "    text = text.lower()\n",
    "    text = text.translate(str.maketrans('', '', string.punctuation))\n",
    "    tokens = word_tokenize(text)\n",
    "    tokens = [word for word in tokens if len(word) > 3]\n",
    "    stop_words = set(stopwords.words('english'))\n",
    "    tokens = [word for word in tokens if word not in stop_words]\n",
    "    lemmatizer = WordNetLemmatizer()\n",
    "    tokens = [lemmatizer.lemmatize(word) for word in tokens]\n",
    "    return ' '.join(tokens)\n",
    "\n",
    "crime_dataset['claim'] = crime_dataset['claim'].apply(clean_text)\n",
    "crime_dataset.head()"
   ]
  },
  {
   "cell_type": "code",
   "execution_count": 88,
   "metadata": {},
   "outputs": [
    {
     "name": "stdout",
     "output_type": "stream",
     "text": [
      "31.28271355220165\n"
     ]
    }
   ],
   "source": [
    "#display average claim length\n",
    "crime_dataset['claim_length'] = crime_dataset['claim'].apply(lambda x: len(x.split()))\n",
    "print(crime_dataset['claim_length'].mean())\n",
    "crime_dataset = crime_dataset.drop(columns=['claim_length'])"
   ]
  },
  {
   "cell_type": "code",
   "execution_count": 89,
   "metadata": {},
   "outputs": [],
   "source": [
    "#save to preprocessed_datasets folder\n",
    "crime_dataset.to_csv('../preprocessed_datasets/crime_dataset.csv', index=False)"
   ]
  }
 ],
 "metadata": {
  "kernelspec": {
   "display_name": "Python 3",
   "language": "python",
   "name": "python3"
  },
  "language_info": {
   "codemirror_mode": {
    "name": "ipython",
    "version": 3
   },
   "file_extension": ".py",
   "mimetype": "text/x-python",
   "name": "python",
   "nbconvert_exporter": "python",
   "pygments_lexer": "ipython3",
   "version": "3.12.2"
  }
 },
 "nbformat": 4,
 "nbformat_minor": 2
}
