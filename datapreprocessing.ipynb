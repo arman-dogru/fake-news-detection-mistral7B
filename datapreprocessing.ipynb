{
 "cells": [
  {
   "cell_type": "code",
   "execution_count": 40,
   "metadata": {},
   "outputs": [],
   "source": [
    "import pandas as pd\n",
    "import numpy as np\n",
    "import matplotlib.pyplot as plt\n",
    "import seaborn as sns"
   ]
  },
  {
   "cell_type": "code",
   "execution_count": 41,
   "metadata": {},
   "outputs": [
    {
     "name": "stderr",
     "output_type": "stream",
     "text": [
      "<>:2: SyntaxWarning: invalid escape sequence '\\c'\n",
      "<>:5: SyntaxWarning: invalid escape sequence '\\h'\n",
      "<>:8: SyntaxWarning: invalid escape sequence '\\p'\n",
      "<>:11: SyntaxWarning: invalid escape sequence '\\s'\n",
      "<>:14: SyntaxWarning: invalid escape sequence '\\s'\n",
      "<>:2: SyntaxWarning: invalid escape sequence '\\c'\n",
      "<>:5: SyntaxWarning: invalid escape sequence '\\h'\n",
      "<>:8: SyntaxWarning: invalid escape sequence '\\p'\n",
      "<>:11: SyntaxWarning: invalid escape sequence '\\s'\n",
      "<>:14: SyntaxWarning: invalid escape sequence '\\s'\n",
      "C:\\Users\\MONSTER\\AppData\\Local\\Temp\\ipykernel_27604\\2460198873.py:2: SyntaxWarning: invalid escape sequence '\\c'\n",
      "  crime = pd.read_csv('preprocessed_datasets\\crime_dataset.csv')\n",
      "C:\\Users\\MONSTER\\AppData\\Local\\Temp\\ipykernel_27604\\2460198873.py:5: SyntaxWarning: invalid escape sequence '\\h'\n",
      "  health = pd.read_csv('preprocessed_datasets\\health_dataset.csv')\n",
      "C:\\Users\\MONSTER\\AppData\\Local\\Temp\\ipykernel_27604\\2460198873.py:8: SyntaxWarning: invalid escape sequence '\\p'\n",
      "  politics = pd.read_csv('preprocessed_datasets\\politics_dataset.csv')\n",
      "C:\\Users\\MONSTER\\AppData\\Local\\Temp\\ipykernel_27604\\2460198873.py:11: SyntaxWarning: invalid escape sequence '\\s'\n",
      "  science = pd.read_csv('preprocessed_datasets\\science_dataset.csv')\n",
      "C:\\Users\\MONSTER\\AppData\\Local\\Temp\\ipykernel_27604\\2460198873.py:14: SyntaxWarning: invalid escape sequence '\\s'\n",
      "  social = pd.read_csv('preprocessed_datasets\\socialmedia_dataset.csv')\n"
     ]
    }
   ],
   "source": [
    "# Load the datasets\n",
    "crime = pd.read_csv('preprocessed_datasets\\crime_dataset.csv')\n",
    "crime.head()\n",
    "\n",
    "health = pd.read_csv('preprocessed_datasets\\health_dataset.csv')\n",
    "health.head()\n",
    "\n",
    "politics = pd.read_csv('preprocessed_datasets\\politics_dataset.csv')\n",
    "politics.head()\n",
    "\n",
    "science = pd.read_csv('preprocessed_datasets\\science_dataset.csv')\n",
    "science.head()\n",
    "\n",
    "social = pd.read_csv('preprocessed_datasets\\socialmedia_dataset.csv')\n",
    "social.head()\n",
    "\n",
    "MAX_LENGTH = 500"
   ]
  },
  {
   "cell_type": "code",
   "execution_count": 42,
   "metadata": {},
   "outputs": [
    {
     "name": "stdout",
     "output_type": "stream",
     "text": [
      "(6427, 2)\n",
      "<class 'pandas.core.frame.DataFrame'>\n",
      "RangeIndex: 6427 entries, 0 to 6426\n",
      "Data columns (total 2 columns):\n",
      " #   Column  Non-Null Count  Dtype \n",
      "---  ------  --------------  ----- \n",
      " 0   label   6427 non-null   int64 \n",
      " 1   claim   6427 non-null   object\n",
      "dtypes: int64(1), object(1)\n",
      "memory usage: 100.6+ KB\n",
      "None\n",
      "             label\n",
      "count  6427.000000\n",
      "mean      0.179555\n",
      "std       0.383846\n",
      "min       0.000000\n",
      "25%       0.000000\n",
      "50%       0.000000\n",
      "75%       0.000000\n",
      "max       1.000000\n",
      "[1 0]\n",
      "234.50381204294382\n",
      "label\n",
      "0    5273\n",
      "1    1154\n",
      "Name: count, dtype: int64\n"
     ]
    }
   ],
   "source": [
    "# drop claims longer than 500 characters\n",
    "crime = crime[crime['claim'].str.len() <= MAX_LENGTH]\n",
    "\n",
    "print(crime.shape)\n",
    "print(crime.info())\n",
    "print(crime.describe())\n",
    "print(crime['label'].unique())\n",
    "print(crime['claim'].str.len().mean())\n",
    "print(crime['label'].value_counts())"
   ]
  },
  {
   "cell_type": "code",
   "execution_count": 43,
   "metadata": {},
   "outputs": [
    {
     "name": "stdout",
     "output_type": "stream",
     "text": [
      "(10315, 2)\n",
      "<class 'pandas.core.frame.DataFrame'>\n",
      "Index: 10315 entries, 0 to 10315\n",
      "Data columns (total 2 columns):\n",
      " #   Column  Non-Null Count  Dtype \n",
      "---  ------  --------------  ----- \n",
      " 0   claim   10315 non-null  object\n",
      " 1   label   10315 non-null  int64 \n",
      "dtypes: int64(1), object(1)\n",
      "memory usage: 241.8+ KB\n",
      "None\n",
      "              label\n",
      "count  10315.000000\n",
      "mean       0.562967\n",
      "std        0.496043\n",
      "min        0.000000\n",
      "25%        0.000000\n",
      "50%        1.000000\n",
      "75%        1.000000\n",
      "max        1.000000\n",
      "705.7964129907901\n",
      "label\n",
      "1    5807\n",
      "0    4508\n",
      "Name: count, dtype: int64\n"
     ]
    }
   ],
   "source": [
    "# drop claims longer than 500 characters\n",
    "health = health[health['claim'].str.len() <= MAX_LENGTH]\n",
    "\n",
    "print(health.shape)\n",
    "print(health.info())\n",
    "print(health.describe())\n",
    "print(health['claim'].str.len().mean())\n",
    "print(health['label'].value_counts())"
   ]
  },
  {
   "cell_type": "code",
   "execution_count": 44,
   "metadata": {},
   "outputs": [
    {
     "name": "stdout",
     "output_type": "stream",
     "text": [
      "(88681, 2)\n",
      "<class 'pandas.core.frame.DataFrame'>\n",
      "Index: 88681 entries, 0 to 88693\n",
      "Data columns (total 2 columns):\n",
      " #   Column  Non-Null Count  Dtype \n",
      "---  ------  --------------  ----- \n",
      " 0   claim   88681 non-null  object\n",
      " 1   label   88681 non-null  int64 \n",
      "dtypes: int64(1), object(1)\n",
      "memory usage: 2.0+ MB\n",
      "None\n",
      "              label\n",
      "count  88681.000000\n",
      "mean       0.510673\n",
      "std        0.499889\n",
      "min        0.000000\n",
      "25%        0.000000\n",
      "50%        1.000000\n",
      "75%        1.000000\n",
      "max        1.000000\n",
      "[1 0]\n",
      "1417.1412591197663\n",
      "label\n",
      "1    45287\n",
      "0    43394\n",
      "Name: count, dtype: int64\n"
     ]
    }
   ],
   "source": [
    "# drop claims longer than 500 characters\n",
    "politics = politics[politics['claim'].str.len() <= MAX_LENGTH]\n",
    "\n",
    "print(politics.shape)\n",
    "print(politics.info())\n",
    "print(politics.describe())\n",
    "print(politics['label'].unique())\n",
    "print(politics['claim'].str.len().mean())\n",
    "print(politics['label'].value_counts())"
   ]
  },
  {
   "cell_type": "code",
   "execution_count": 45,
   "metadata": {},
   "outputs": [
    {
     "name": "stdout",
     "output_type": "stream",
     "text": [
      "(1535, 2)\n",
      "<class 'pandas.core.frame.DataFrame'>\n",
      "RangeIndex: 1535 entries, 0 to 1534\n",
      "Data columns (total 2 columns):\n",
      " #   Column  Non-Null Count  Dtype \n",
      "---  ------  --------------  ----- \n",
      " 0   claim   1535 non-null   object\n",
      " 1   label   1535 non-null   int64 \n",
      "dtypes: int64(1), object(1)\n",
      "memory usage: 24.1+ KB\n",
      "None\n",
      "             label\n",
      "count  1535.000000\n",
      "mean      0.426059\n",
      "std       0.494664\n",
      "min       0.000000\n",
      "25%       0.000000\n",
      "50%       0.000000\n",
      "75%       1.000000\n",
      "max       1.000000\n",
      "[1 0]\n",
      "83.24885993485341\n",
      "label\n",
      "0    881\n",
      "1    654\n",
      "Name: count, dtype: int64\n"
     ]
    }
   ],
   "source": [
    "# drop claims longer than 500 characters\n",
    "science = science[science['claim'].str.len() <= MAX_LENGTH]\n",
    "\n",
    "print(science.shape)\n",
    "print(science.info())\n",
    "print(science.describe())\n",
    "print(science['label'].unique())\n",
    "print(science['claim'].str.len().mean())\n",
    "print(science['label'].value_counts())"
   ]
  },
  {
   "cell_type": "code",
   "execution_count": 46,
   "metadata": {},
   "outputs": [
    {
     "name": "stdout",
     "output_type": "stream",
     "text": [
      "(21840, 2)\n",
      "<class 'pandas.core.frame.DataFrame'>\n",
      "Index: 21840 entries, 0 to 21846\n",
      "Data columns (total 2 columns):\n",
      " #   Column  Non-Null Count  Dtype \n",
      "---  ------  --------------  ----- \n",
      " 0   claim   21840 non-null  object\n",
      " 1   label   21840 non-null  int64 \n",
      "dtypes: int64(1), object(1)\n",
      "memory usage: 511.9+ KB\n",
      "None\n",
      "              label\n",
      "count  21840.000000\n",
      "mean       0.756273\n",
      "std        0.429340\n",
      "min        0.000000\n",
      "25%        1.000000\n",
      "50%        1.000000\n",
      "75%        1.000000\n",
      "max        1.000000\n",
      "[1 0]\n",
      "51.71346153846154\n",
      "label\n",
      "1    16517\n",
      "0     5323\n",
      "Name: count, dtype: int64\n"
     ]
    }
   ],
   "source": [
    "# drop claims longer than 500 characters\n",
    "social = social[social['claim'].str.len() <= MAX_LENGTH]\n",
    "\n",
    "print(social.shape)\n",
    "print(social.info())\n",
    "print(social.describe())\n",
    "print(social['label'].unique())\n",
    "print(social['claim'].str.len().mean())\n",
    "print(social['label'].value_counts())"
   ]
  },
  {
   "cell_type": "code",
   "execution_count": 47,
   "metadata": {},
   "outputs": [
    {
     "data": {
      "image/png": "[encoded data removed]",
      "text/plain": [
       "<Figure size 1200x600 with 5 Axes>"
      ]
     },
     "metadata": {},
     "output_type": "display_data"
    }
   ],
   "source": [
    "#plot the distribution of the length of the claims side by side\n",
    "plt.figure(figsize=(12,6))\n",
    "plt.subplot(2,3,1)\n",
    "sns.histplot(crime['claim'].str.len(), color='red')\n",
    "plt.title('Crime')\n",
    "plt.xlabel('Length of the claims')\n",
    "plt.ylabel('Frequency')\n",
    "\n",
    "plt.subplot(2,3,2)\n",
    "sns.histplot(health['claim'].str.len(), color='blue')\n",
    "plt.title('Health')\n",
    "plt.xlabel('Length of the claims')\n",
    "plt.ylabel('Frequency')\n",
    "\n",
    "plt.subplot(2,3,3)\n",
    "sns.histplot(politics['claim'].str.len(), color='green')\n",
    "plt.title('Politics')\n",
    "plt.xlabel('Length of the claims')\n",
    "plt.ylabel('Frequency')\n",
    "\n",
    "plt.subplot(2,3,4)\n",
    "sns.histplot(science['claim'].str.len(), color='yellow')\n",
    "plt.title('Science')\n",
    "plt.xlabel('Length of the claims')\n",
    "plt.ylabel('Frequency')\n",
    "\n",
    "plt.subplot(2,3,5)\n",
    "sns.histplot(social['claim'].str.len(), color='purple')\n",
    "plt.title('Social Media')\n",
    "plt.xlabel('Length of the claims')\n",
    "plt.ylabel('Frequency')\n",
    "\n",
    "plt.tight_layout()\n",
    "plt.show()"
   ]
  },
  {
   "cell_type": "code",
   "execution_count": 48,
   "metadata": {},
   "outputs": [],
   "source": [
    "# grab 10k rows from each dataset, make sure the label distribution is balanced, do not use sample\n",
    "crime = crime.groupby('label').head(5000)\n",
    "health = health.groupby('label').head(5000)\n",
    "politics = politics.groupby('label').head(5000)\n",
    "science = science.groupby('label').head(5000)\n",
    "social = social.groupby('label').head(5000)"
   ]
  },
  {
   "cell_type": "code",
   "execution_count": 49,
   "metadata": {},
   "outputs": [
    {
     "name": "stdout",
     "output_type": "stream",
     "text": [
      "crime shape\n",
      "label\n",
      "0    5000\n",
      "1    1154\n",
      "Name: count, dtype: int64\n",
      "health shape\n",
      "label\n",
      "1    5000\n",
      "0    4508\n",
      "Name: count, dtype: int64\n",
      "politics shape\n",
      "label\n",
      "1    5000\n",
      "0    5000\n",
      "Name: count, dtype: int64\n",
      "science shape\n",
      "label\n",
      "0    881\n",
      "1    654\n",
      "Name: count, dtype: int64\n",
      "social shape\n",
      "label\n",
      "1    5000\n",
      "0    5000\n",
      "Name: count, dtype: int64\n"
     ]
    }
   ],
   "source": [
    "#print the label distribution and the shape of the datasets\n",
    "print(\"crime shape\")\n",
    "print(crime['label'].value_counts())\n",
    "print(\"health shape\")\n",
    "print(health['label'].value_counts())\n",
    "print(\"politics shape\")\n",
    "print(politics['label'].value_counts())\n",
    "print(\"science shape\")\n",
    "print(science['label'].value_counts())\n",
    "print(\"social shape\")\n",
    "print(social['label'].value_counts())"
   ]
  },
  {
   "cell_type": "code",
   "execution_count": 50,
   "metadata": {},
   "outputs": [],
   "source": [
    "#combine health, politics, social, categorize them into 3 categories 0, 1, 2\n",
    "health['category'] = 0 \n",
    "politics['category'] = 1\n",
    "social['category'] = 2"
   ]
  },
  {
   "cell_type": "code",
   "execution_count": 51,
   "metadata": {},
   "outputs": [],
   "source": [
    "#combine the datasets\n",
    "combined = pd.concat([health, politics, social], axis=0)\n",
    "combined = combined.sample(frac=1).reset_index(drop=True)"
   ]
  },
  {
   "cell_type": "code",
   "execution_count": 52,
   "metadata": {},
   "outputs": [
    {
     "name": "stdout",
     "output_type": "stream",
     "text": [
      "category\n",
      "2    10000\n",
      "1    10000\n",
      "0     9508\n",
      "Name: count, dtype: int64\n",
      "label\n",
      "1    15000\n",
      "0    14508\n",
      "Name: count, dtype: int64\n",
      "(29508, 3)\n",
      "                                               claim  label  category\n",
      "0  watch lockdown4 easing curb unlikely mumbai pu...      1         0\n",
      "1  complete history scott disick sofia richies re...      1         2\n",
      "2  brad pitt vowing stay celibate amid angelina j...      0         2\n",
      "3  wearing mask dangerous little childen risk bre...      0         0\n",
      "4    promise carrie fisher final star war appearance      0         2\n",
      "<class 'pandas.core.frame.DataFrame'>\n",
      "RangeIndex: 29508 entries, 0 to 29507\n",
      "Data columns (total 3 columns):\n",
      " #   Column    Non-Null Count  Dtype \n",
      "---  ------    --------------  ----- \n",
      " 0   claim     29508 non-null  object\n",
      " 1   label     29508 non-null  int64 \n",
      " 2   category  29508 non-null  int64 \n",
      "dtypes: int64(2), object(1)\n",
      "memory usage: 691.7+ KB\n",
      "None\n",
      "              label      category\n",
      "count  29508.000000  29508.000000\n",
      "mean       0.508337      1.016673\n",
      "std        0.499939      0.812929\n",
      "min        0.000000      0.000000\n",
      "25%        0.000000      0.000000\n",
      "50%        1.000000      1.000000\n",
      "75%        1.000000      2.000000\n",
      "max        1.000000      2.000000\n"
     ]
    }
   ],
   "source": [
    "#print the label distribution and the shape of the dataset\n",
    "print(combined['category'].value_counts())\n",
    "print(combined['label'].value_counts())\n",
    "print(combined.shape)\n",
    "print(combined.head())\n",
    "print(combined.info())\n",
    "print(combined.describe())"
   ]
  }
 ],
 "metadata": {
  "kernelspec": {
   "display_name": "Python 3",
   "language": "python",
   "name": "python3"
  },
  "language_info": {
   "codemirror_mode": {
    "name": "ipython",
    "version": 3
   },
   "file_extension": ".py",
   "mimetype": "text/x-python",
   "name": "python",
   "nbconvert_exporter": "python",
   "pygments_lexer": "ipython3",
   "version": "3.12.2"
  }
 },
 "nbformat": 4,
 "nbformat_minor": 2
}
